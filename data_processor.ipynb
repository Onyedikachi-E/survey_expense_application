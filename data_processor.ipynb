{
 "cells": [
  {
   "cell_type": "markdown",
   "metadata": {},
   "source": []
  },
  {
   "cell_type": "code",
   "execution_count": 335,
   "metadata": {},
   "outputs": [],
   "source": [
    "import pandas as pd\n",
    "from typing import List\n",
    "from pymongo.collection import Collection\n",
    "from database.database import user_collection\n"
   ]
  },
  {
   "cell_type": "code",
   "execution_count": 336,
   "metadata": {},
   "outputs": [],
   "source": [
    "\n",
    "class Expenses:\n",
    "    utilities = 0\n",
    "    entertainment = 0\n",
    "    school_fees = 0\n",
    "    shopping = 0\n",
    "    healthcare = 0\n",
    "\n",
    "\n",
    "# Create a Python or R class named \"User\n",
    "class User:\n",
    "    def __init__(self):\n",
    "        self.first_name:str = \"\" \n",
    "        self.last_name:str = \"\"\n",
    "        self.age:int = 0\n",
    "        self.gender:str = \"\"\n",
    "        self.user_id:str = \"\"\n",
    "        self.total_income:int = 0\n",
    "        self.expenses:Expenses = Expenses()"
   ]
  },
  {
   "cell_type": "code",
   "execution_count": 337,
   "metadata": {},
   "outputs": [],
   "source": [
    "# Query the database to retrieve users information\n",
    "user_collection:Collection = user_collection\n",
    "users_demography = user_collection.find({})"
   ]
  },
  {
   "cell_type": "code",
   "execution_count": 338,
   "metadata": {},
   "outputs": [],
   "source": [
    "# Initialize a list structure to store the user data object\n",
    "user_list:List[User] = []\n",
    "\n",
    "# Extract data from the users_demography cursor\n",
    "for documents in users_demography:\n",
    "    users_data = User()\n",
    "    users_data.first_name = documents[\"first_name\"]\n",
    "    users_data.last_name = documents[\"last_name\"]\n",
    "    users_data.age = documents[\"age\"]\n",
    "    users_data.gender = documents[\"gender\"]\n",
    "    users_data.user_id = documents[\"user_id\"]\n",
    "    users_data.total_income = documents[\"total_income\"]\n",
    "    \n",
    "    # Extract the Expenses categories\n",
    "    users_data.expenses.utilities = documents[\"expense\"].get(\"utilities\", 0)\n",
    "    users_data.expenses.entertainment = documents[\"expense\"].get(\"entertainment\", 0)\n",
    "    users_data.expenses.school_fees = documents[\"expense\"].get(\"school_fees\", 0)\n",
    "    users_data.expenses.shopping = documents[\"expense\"].get(\"shopping\", 0)\n",
    "    users_data.expenses.healthcare = documents[\"expense\"].get(\"healthcare\", 0)\n",
    "\n",
    "    # Append the user data object to the list\n",
    "    user_list.append(users_data)\n",
    "    \n",
    "    "
   ]
  },
  {
   "cell_type": "code",
   "execution_count": 339,
   "metadata": {},
   "outputs": [],
   "source": [
    "# Structure the the User object to form a proper dictionary\n",
    "users_profile_list = []\n",
    "for user_profile in user_list:\n",
    "\n",
    "    user_info = {\n",
    "        \"first_name\":user_profile.first_name,\n",
    "        \"last_name\":user_profile.last_name,\n",
    "        \"age\":user_profile.age,\n",
    "        \"gender\":user_profile.gender,\n",
    "        \"user_id\":user_profile.user_id,\n",
    "        \"total_income\":user_profile.total_income,\n",
    "        \"utilities\":user_profile.expenses.utilities,\n",
    "        \"entertainment\":user_profile.expenses.entertainment,\n",
    "        \"school_fees\":user_profile.expenses.school_fees,\n",
    "        \"shopping\":user_profile.expenses.shopping,\n",
    "        \"healthcare\":user_profile.expenses.healthcare\n",
    "    }\n",
    "    users_profile_list.append(user_info)\n"
   ]
  },
  {
   "cell_type": "code",
   "execution_count": 340,
   "metadata": {},
   "outputs": [],
   "source": [
    "# Import users data into pandas dataframe\n",
    "df = pd.DataFrame(data=users_profile_list)"
   ]
  },
  {
   "cell_type": "code",
   "execution_count": 341,
   "metadata": {},
   "outputs": [
    {
     "data": {
      "text/html": [
       "<div>\n",
       "<style scoped>\n",
       "    .dataframe tbody tr th:only-of-type {\n",
       "        vertical-align: middle;\n",
       "    }\n",
       "\n",
       "    .dataframe tbody tr th {\n",
       "        vertical-align: top;\n",
       "    }\n",
       "\n",
       "    .dataframe thead th {\n",
       "        text-align: right;\n",
       "    }\n",
       "</style>\n",
       "<table border=\"1\" class=\"dataframe\">\n",
       "  <thead>\n",
       "    <tr style=\"text-align: right;\">\n",
       "      <th></th>\n",
       "      <th>first_name</th>\n",
       "      <th>last_name</th>\n",
       "      <th>age</th>\n",
       "      <th>gender</th>\n",
       "      <th>user_id</th>\n",
       "      <th>total_income</th>\n",
       "      <th>utilities</th>\n",
       "      <th>entertainment</th>\n",
       "      <th>school_fees</th>\n",
       "      <th>shopping</th>\n",
       "      <th>healthcare</th>\n",
       "    </tr>\n",
       "  </thead>\n",
       "  <tbody>\n",
       "    <tr>\n",
       "      <th>0</th>\n",
       "      <td>Ogechi</td>\n",
       "      <td>Ezeobi</td>\n",
       "      <td>38</td>\n",
       "      <td>Female</td>\n",
       "      <td>2</td>\n",
       "      <td>25000</td>\n",
       "      <td>500</td>\n",
       "      <td>1000</td>\n",
       "      <td>2000</td>\n",
       "      <td>5000</td>\n",
       "      <td>8000</td>\n",
       "    </tr>\n",
       "    <tr>\n",
       "      <th>1</th>\n",
       "      <td>Kachi</td>\n",
       "      <td>Ezeobi</td>\n",
       "      <td>38</td>\n",
       "      <td>Female</td>\n",
       "      <td>2</td>\n",
       "      <td>25000</td>\n",
       "      <td>500</td>\n",
       "      <td>1000</td>\n",
       "      <td>2000</td>\n",
       "      <td>5000</td>\n",
       "      <td>8000</td>\n",
       "    </tr>\n",
       "    <tr>\n",
       "      <th>2</th>\n",
       "      <td>Munachi</td>\n",
       "      <td>Ezeobi</td>\n",
       "      <td>25</td>\n",
       "      <td>Female</td>\n",
       "      <td>2</td>\n",
       "      <td>70000</td>\n",
       "      <td>45</td>\n",
       "      <td>45</td>\n",
       "      <td>0</td>\n",
       "      <td>0</td>\n",
       "      <td>0</td>\n",
       "    </tr>\n",
       "    <tr>\n",
       "      <th>3</th>\n",
       "      <td>Samuel</td>\n",
       "      <td>Uzochukwu</td>\n",
       "      <td>32</td>\n",
       "      <td>Male</td>\n",
       "      <td>2</td>\n",
       "      <td>500000</td>\n",
       "      <td>50000</td>\n",
       "      <td>70000</td>\n",
       "      <td>40000</td>\n",
       "      <td>80000</td>\n",
       "      <td>25000</td>\n",
       "    </tr>\n",
       "  </tbody>\n",
       "</table>\n",
       "</div>"
      ],
      "text/plain": [
       "  first_name  last_name  age  gender  user_id  total_income  utilities  \\\n",
       "0     Ogechi     Ezeobi   38  Female        2         25000        500   \n",
       "1      Kachi     Ezeobi   38  Female        2         25000        500   \n",
       "2    Munachi     Ezeobi   25  Female        2         70000         45   \n",
       "3     Samuel  Uzochukwu   32    Male        2        500000      50000   \n",
       "\n",
       "   entertainment  school_fees  shopping  healthcare  \n",
       "0           1000         2000      5000        8000  \n",
       "1           1000         2000      5000        8000  \n",
       "2             45            0         0           0  \n",
       "3          70000        40000     80000       25000  "
      ]
     },
     "execution_count": 341,
     "metadata": {},
     "output_type": "execute_result"
    }
   ],
   "source": [
    "df"
   ]
  },
  {
   "cell_type": "code",
   "execution_count": null,
   "metadata": {},
   "outputs": [],
   "source": [
    "# Show the ages with the highest income.\n",
    "# Show the gender distribution across spending categories#\n",
    "# Export the charts for use in a PowerPoint presentation for client use."
   ]
  },
  {
   "cell_type": "code",
   "execution_count": null,
   "metadata": {},
   "outputs": [],
   "source": []
  }
 ],
 "metadata": {
  "kernelspec": {
   "display_name": "venv",
   "language": "python",
   "name": "python3"
  },
  "language_info": {
   "codemirror_mode": {
    "name": "ipython",
    "version": 3
   },
   "file_extension": ".py",
   "mimetype": "text/x-python",
   "name": "python",
   "nbconvert_exporter": "python",
   "pygments_lexer": "ipython3",
   "version": "3.10.12"
  }
 },
 "nbformat": 4,
 "nbformat_minor": 2
}
